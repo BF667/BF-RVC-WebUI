{
  "cells": [
    {
      "cell_type": "markdown",
      "metadata": {
        "id": "39k2mOCNAh6J"
      },
      "source": [
        "[![Open In Colab](https://img.shields.io/badge/Open%20in-Colab-yellow?logo=google-colab)](https://colab.research.google.com/github/BF667/BF-RVC-WebUI/blob/main/bfrvc.ipynb)"
      ]
    },
    {
      "cell_type": "markdown",
      "source": [
        "# BF RVC Fork WebUI\n",
        "\n",
        "Simply click `Runtime` in the top navigation bar and `Run all`. Wait for the output of the final cell to show the public Gradio URL and click on it."
      ],
      "metadata": {
        "id": "YYVAKuNBc-X4"
      }
    },
    {
      "cell_type": "code",
      "execution_count": null,
      "metadata": {
        "id": "vC4gLMHI9xb3",
        "cellView": "form"
      },
      "outputs": [],
      "source": [
        "#@title Clone repository\n",
        "from IPython.display import clear_output\n",
        "import time\n",
        "\n",
        "# Clone the repository\n",
        "!git clone https://github.com/BF667/BF-RVC-WebUI.git HRVC\n",
        "%cd HRVC\n",
        "\n",
        "# Simple timer for progress indication\n",
        "start_time = time.time()\n",
        "print(\"Cloning repository...\", end=\"\", flush=True)\n",
        "time.sleep(1)  # Simulate work\n",
        "elapsed = int(time.time() - start_time)\n",
        "print(f\"\\rDone Cloning Repository in {elapsed} seconds\")\n",
        "clear_output(wait=True)\n",
        "print(\"Done Cloning Repository\")"
      ]
    },
    {
      "cell_type": "code",
      "execution_count": null,
      "metadata": {
        "cellView": "form",
        "id": "odzpJHpr_PaF"
      },
      "outputs": [],
      "source": [
        "#@title Install requirements\n",
        "from IPython.display import clear_output\n",
        "\n",
        "# Update pip to a recent version\n",
        "!pip install --upgrade pip\n",
        "\n",
        "# Install requirements from file\n",
        "!pip install -q -r requirements.txt\n",
        "\n",
        "# Install compatible Gradio versions\n",
        "!pip install gradio==4.44.0 gradio-client==1.3.0\n",
        "\n",
        "# Install pyngrok for tunneling\n",
        "!pip install pyngrok\n",
        "\n",
        "# Check for sox installation\n",
        "import shutil\n",
        "if shutil.which(\"sox\") is None:\n",
        "    print(\"Installing sox...\")\n",
        "    !apt-get update -qq && apt-get install -y sox\n",
        "else:\n",
        "    print(\"sox is already installed\")\n",
        "\n",
        "# Install CUDA dependencies (if needed)\n",
        "try:\n",
        "    import torch\n",
        "    if torch.cuda.is_available():\n",
        "        !pip install onnxruntime-gpu\n",
        "    else:\n",
        "        print(\"No GPU detected, installing CPU version of onnxruntime\")\n",
        "        !pip install onnxruntime\n",
        "except ImportError:\n",
        "    print(\"Torch not installed yet, skipping CUDA setup\")\n",
        "\n",
        "clear_output()\n",
        "print(\"Finished Installing Requirements\")"
      ]
    },
    {
      "cell_type": "code",
      "execution_count": null,
      "metadata": {
        "cellView": "form",
        "id": "AHSZ"
      },
      "outputs": [],
      "source": [
        "#@title Download MDXNet Vocal Separation\n",
        "from IPython.display import clear_output\n",
        "\n",
        "# Run the download models script\n",
        "!python src/download_models.py\n",
        "\n",
        "clear_output()\n",
        "print(\"Finished Downloading Voice Separation Model\")"
      ]
    },
    {
      "cell_type": "code",
      "source": [
        "#@title Run WebUI\n",
        "from IPython.display import clear_output\n",
        "from pyngrok import ngrok\n",
        "import subprocess\n",
        "\n",
        "# Set your ngrok authtoken (replace with your own token)\n",
        "NGROK_AUTH_TOKEN = \"YOUR_NGROK_AUTH_TOKEN\"  # Get from https://dashboard.ngrok.com/\n",
        "ngrok.set_auth_token(NGROK_AUTH_TOKEN)\n",
        "\n",
        "# Start the Gradio app in the background\n",
        "process = subprocess.Popen([\"python\", \"src/webui.py\", \"--port\", \"7860\"])\n",
        "\n",
        "# Create a public URL with ngrok\n",
        "public_url = ngrok.connect(7860)\n",
        "print(f\"Gradio WebUI is running at: {public_url}\")\n",
        "\n",
        "# Keep the cell running to maintain the tunnel\n",
        "try:\n",
        "    process.wait()\n",
        "except KeyboardInterrupt:\n",
        "    process.terminate()\n",
        "    ngrok.disconnect(public_url)\n",
        "    print(\"WebUI and ngrok tunnel stopped\")"
      ],
      "metadata": {
        "cellView": "form",
        "id": "a9d0"
      },
      "execution_count": null,
      "outputs": []
    }
  ],
  "metadata": {
    "accelerator": "GPU",
    "colab": {
      "provenance": []
    },
    "kernelspec": {
      "display_name": "Python 3",
      "name": "python3"
    },
    "language_info": {
      "name": "python"
    }
  },
  "nbformat": 4,
  "nbformat_minor": 0
}
